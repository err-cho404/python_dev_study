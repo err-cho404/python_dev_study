{
 "cells": [
  {
   "cell_type": "markdown",
   "metadata": {},
   "source": [
    "#판다스 기초"
   ]
  },
  {
   "cell_type": "markdown",
   "metadata": {},
   "source": [
    "# 가장 큰 제목\n",
    "## 두번째 큰 제목\n",
    "### 세번째 큰 제목\n",
    "1. 테스트\n",
    "1. 두번째 글"
   ]
  },
  {
   "cell_type": "code",
   "execution_count": 1,
   "metadata": {},
   "outputs": [
    {
     "name": "stdout",
     "output_type": "stream",
     "text": [
      "1\n"
     ]
    }
   ],
   "source": [
    "import pandas as pd\n",
    "print(1) "
   ]
  },
  {
   "cell_type": "code",
   "execution_count": 2,
   "metadata": {},
   "outputs": [
    {
     "name": "stdout",
     "output_type": "stream",
     "text": [
      "시리즈 *3 의 결과 ==> data1     3\n",
      "data2     6\n",
      "data3     9\n",
      "data4    12\n",
      "data5    15\n",
      "dtype: int64\n",
      "리스트 *3 의 결과 ==> [1, 2, 3, 4, 5, 1, 2, 3, 4, 5, 1, 2, 3, 4, 5]\n"
     ]
    }
   ],
   "source": [
    "import pandas as pd\n",
    "\n",
    "sd = pd.Series([1,2,3,4,5],index=['data1','data2','data3','data4','data5'])  #하나의 열로 이루어진 1차원 행렬 (실제 자료의 구조와 가깝다.)\n",
    "sd\n",
    "listData=[1,2,3,4,5] #하나의 열로 이루어진 1차원 행렬\n",
    "listData\n",
    "\n",
    "print(\"시리즈 *3 의 결과 ==>\", sd*3)\n",
    "print(\"리스트 *3 의 결과 ==>\",listData*3)"
   ]
  },
  {
   "cell_type": "markdown",
   "metadata": {},
   "source": [
    "#### dictionary 를 이용한 시리즈 만들기"
   ]
  },
  {
   "cell_type": "code",
   "execution_count": 3,
   "metadata": {},
   "outputs": [
    {
     "name": "stdout",
     "output_type": "stream",
     "text": [
      "100\n",
      "1번     50\n",
      "2번     80\n",
      "3번    100\n",
      "dtype: int64\n",
      "2번     80\n",
      "3번    100\n",
      "dtype: int64\n",
      "1번     50\n",
      "3번    100\n",
      "1번     50\n",
      "dtype: int64\n"
     ]
    }
   ],
   "source": [
    "sd2 = pd.Series({'1번':50,'2번':80,'3번':100})\n",
    "sd2\n",
    "print(sd2['3번'])\n",
    "print(sd2[:'3번'])\n",
    "print(sd2['2번':'3번']) #연속적 출력(슬라이싱)\n",
    "print(sd2[['1번','3번','1번']]) #비연속적인 출력(비연속적인 부분만 필요하거나 순서가 다르거나 같은번호를 여러번 출력필요할때)\n",
    "#안쪽 대괄호가 어떻게 쓰였는지 잘 알아두기"
   ]
  },
  {
   "cell_type": "code",
   "execution_count": 14,
   "metadata": {},
   "outputs": [
    {
     "name": "stdout",
     "output_type": "stream",
     "text": [
      "[2 3 5 7 9] RangeIndex(start=0, stop=5, step=1)\n",
      "5.2 26\n"
     ]
    },
    {
     "data": {
      "text/plain": [
       "(5,)"
      ]
     },
     "execution_count": 14,
     "metadata": {},
     "output_type": "execute_result"
    }
   ],
   "source": [
    "sd3=pd.Series([2,3,5,7,9])\n",
    "print( sd3.values , sd3.index )\n",
    "sd3.index = ['3701','3702','3703','3704','3705']    # ==> values의 개수와 맞춰서 지정 해줘야 오류 안남\n",
    "sd3\n",
    "print(sd3.mean(), sd3.sum()) \n",
    "sd3.shape"
   ]
  },
  {
   "cell_type": "code",
   "execution_count": 15,
   "metadata": {},
   "outputs": [
    {
     "data": {
      "text/plain": [
       "<bound method NDFrame.describe of 3701    2\n",
       "3702    3\n",
       "3703    5\n",
       "3704    7\n",
       "3705    9\n",
       "dtype: int64>"
      ]
     },
     "execution_count": 15,
     "metadata": {},
     "output_type": "execute_result"
    }
   ],
   "source": [
    "sd3.describe #r에서 summary 기능 shape와 같이 뒤에()안씀"
   ]
  }
 ],
 "metadata": {
  "kernelspec": {
   "display_name": "Python 3",
   "language": "python",
   "name": "python3"
  },
  "language_info": {
   "codemirror_mode": {
    "name": "ipython",
    "version": 3
   },
   "file_extension": ".py",
   "mimetype": "text/x-python",
   "name": "python",
   "nbconvert_exporter": "python",
   "pygments_lexer": "ipython3",
   "version": "3.12.4"
  }
 },
 "nbformat": 4,
 "nbformat_minor": 2
}
